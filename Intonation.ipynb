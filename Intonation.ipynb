{
  "nbformat": 4,
  "nbformat_minor": 0,
  "metadata": {
    "colab": {
      "name": "Equal Temperament.ipynb",
      "version": "0.3.2",
      "provenance": [],
      "collapsed_sections": [],
      "include_colab_link": true
    },
    "kernelspec": {
      "name": "python3",
      "display_name": "Python 3"
    }
  },
  "cells": [
    {
      "cell_type": "markdown",
      "metadata": {
        "id": "view-in-github",
        "colab_type": "text"
      },
      "source": [
        "<a href=\"https://colab.research.google.com/github/iskyd/music-intonation/blob/master/Intonation.ipynb\" target=\"_parent\"><img src=\"https://colab.research.google.com/assets/colab-badge.svg\" alt=\"Open In Colab\"/></a>"
      ]
    },
    {
      "cell_type": "markdown",
      "metadata": {
        "id": "xdIzmpLRX-c8",
        "colab_type": "text"
      },
      "source": [
        "Gli intervalli più semplici sono l'unisono, con un ratio di 1:1, e l'ottava, con un ratio di 2:1\n",
        "Questo vuol dire che una corda, nelle stesse condizioni, lunga 1/2 di un'altra corda produrrà un suono un'ottava più alta (allo stesso modo una corda lunga il doppio produrrà un suono un'ottava più bassa).\n",
        "\n",
        "\n"
      ]
    },
    {
      "cell_type": "code",
      "metadata": {
        "id": "NV9ASY_2bQ1T",
        "colab_type": "code",
        "outputId": "8ccfa41f-dae4-4b19-efa1-5dce42120100",
        "colab": {
          "base_uri": "https://localhost:8080/",
          "height": 50
        }
      },
      "source": [
        "root = 220\n",
        "octave = 220 * 2\n",
        "\n",
        "print('Root', root)\n",
        "print('Octave', octave)"
      ],
      "execution_count": 0,
      "outputs": [
        {
          "output_type": "stream",
          "text": [
            "Root 220\n",
            "Octave 440\n"
          ],
          "name": "stdout"
        }
      ]
    },
    {
      "cell_type": "markdown",
      "metadata": {
        "id": "pIRyMZ28XkYx",
        "colab_type": "text"
      },
      "source": [
        "Il prossimo ratio più semplice è il ratio 3:2 che rappresenta la quinta. Allo stesso modo dell'ottava quindi una corda lunga 2/3 di un'altra produrrà un suono un'ottava più alta.\n",
        "\n"
      ]
    },
    {
      "cell_type": "code",
      "metadata": {
        "id": "MdYSfG9JbiFD",
        "colab_type": "code",
        "outputId": "349d87e4-35b9-4723-8c34-15df239fc5e9",
        "colab": {
          "base_uri": "https://localhost:8080/",
          "height": 50
        }
      },
      "source": [
        "root = 220\n",
        "fifth = 220 * 3/2\n",
        "\n",
        "print('Root', root)\n",
        "print('Fifth', fifth)"
      ],
      "execution_count": 0,
      "outputs": [
        {
          "output_type": "stream",
          "text": [
            "Root 220\n",
            "Fifth 330.0\n"
          ],
          "name": "stdout"
        }
      ]
    },
    {
      "cell_type": "markdown",
      "metadata": {
        "id": "A7XCoz6ybhLb",
        "colab_type": "text"
      },
      "source": [
        "La scala Pitagorica nasce proprio da questo ratio, 3/2, da cui nascono tutte le altre note. L'intervallo di quinta perfetta è il più forte intervallo consonante e per questo è stato usato come partenza.\n",
        "\n",
        "Tutto era basato sulla tetractys, ovvero sui primi 4 numeri naturale (1,2,3,4), infatti i ratio da cui la scala deriva sono 1:1 (unisono), 2:1 (ottava), 3:2 (quinta), 4:3 (quarta).\n",
        "\n",
        "La scala veniva generata quindi con una successione di quinte perfette (circolo delle quinte).\n",
        "\n"
      ]
    },
    {
      "cell_type": "code",
      "metadata": {
        "id": "4Meb0tmsEWpt",
        "colab_type": "code",
        "outputId": "20fd3f68-6a11-41e4-efe1-8e9d68acf801",
        "colab": {
          "base_uri": "https://localhost:8080/",
          "height": 34
        }
      },
      "source": [
        "root = 220\n",
        "notes = [root]\n",
        "\n",
        "def reduce(note):\n",
        "  while(note > root * 2):\n",
        "    note = note / 2\n",
        "   \n",
        "  return note\n",
        "\n",
        "note = root\n",
        "for i in range(1, 11):\n",
        "  note = note * (3/2)\n",
        "  notes.append(reduce(note))  \n",
        "\n",
        "notes.append(440)\n",
        "notes.sort()\n",
        "print(notes)\n",
        "\n"
      ],
      "execution_count": 0,
      "outputs": [
        {
          "output_type": "stream",
          "text": [
            "[220, 234.931640625, 247.5, 264.298095703125, 278.4375, 313.2421875, 330.0, 352.3974609375, 371.25, 396.4471435546875, 417.65625, 440]\n"
          ],
          "name": "stdout"
        }
      ]
    },
    {
      "cell_type": "markdown",
      "metadata": {
        "id": "udjk0oXQEVnm",
        "colab_type": "text"
      },
      "source": [
        "Ogni 12 intervalli di quinta torniamo sulla stessa fondamentale 7 ottave più in alto.\n",
        "La successione di questi intervalli di quinta però non coincide perfettamente con l'ottava.\n",
        "La differenza tra le due frequenze è chiamato comma."
      ]
    },
    {
      "cell_type": "code",
      "metadata": {
        "id": "P6SmNo8PTZtk",
        "colab_type": "code",
        "outputId": "ed7336ac-280a-4d7a-bf7d-20047477f18b",
        "colab": {
          "base_uri": "https://localhost:8080/",
          "height": 36
        }
      },
      "source": [
        "root = 100\n",
        "\n",
        "fifth = root * (3/2)**12\n",
        "octave = root * 2 ** 7\n",
        "\n",
        "comma = fifth - octave\n",
        "\n",
        "print('Comma', comma)"
      ],
      "execution_count": 0,
      "outputs": [
        {
          "output_type": "stream",
          "text": [
            "Comma 174.6337890625\n"
          ],
          "name": "stdout"
        }
      ]
    },
    {
      "cell_type": "markdown",
      "metadata": {
        "id": "qHuwNfdK6VBD",
        "colab_type": "text"
      },
      "source": [
        "L'intonazione naturale (Just intonation) nasce dalla successione naturale dei suoni armonici.\n",
        "Quando due intervalli ad intonazione naturale vengono suonati non si crea alcuna interferenza tra loro e si combinano perfettamente.\n",
        "A differenza della scala pitagiroca vengono anche definiti i ratio della terza maggiore, 5/4, e della terza minore, 6/5. Tutte le frazioni (3/2, 4/3, 5/4, 6/5) sono numeri superpartientes, il numeratore supera di 1 il denominatore.\n",
        "Gli altri intervalli derivano dalla differenza con questi intervalli principali.\n",
        "Gli intervalli di terza e di sesta risultano essere perfettamente consonanti a differenza degli stessi intervalli nel temperamento pitagorico.\n",
        "\n",
        "\n",
        "*   Unisono: 1:1\n",
        "*   Seconda maggiore: 9/8\n",
        "*   Terza maggiore: 5/4\n",
        "*   Quarta giusta: 4/3\n",
        "*   Quinta giusta: 3/2\n",
        "*   Sesta maggiore: 5/3\n",
        "*   Settima maggiore: 15/8\n",
        "*   Ottava: 2:1\n",
        "\n"
      ]
    },
    {
      "cell_type": "code",
      "metadata": {
        "id": "8g6cql776zYq",
        "colab_type": "code",
        "outputId": "2c316b0c-cb8d-40c7-b7b6-1cfe47240e19",
        "colab": {
          "base_uri": "https://localhost:8080/",
          "height": 34
        }
      },
      "source": [
        "ratios = [\n",
        "    1/1,\n",
        "    9/8,\n",
        "    5/4,\n",
        "    4/3,\n",
        "    3/2,\n",
        "    5/3,\n",
        "    15/8,\n",
        "    2/1\n",
        "]\n",
        "\n",
        "root = 220\n",
        "\n",
        "scale = [root * ratio for ratio in ratios]\n",
        "\n",
        "print(scale)\n",
        "  "
      ],
      "execution_count": 0,
      "outputs": [
        {
          "output_type": "stream",
          "text": [
            "[220.0, 247.5, 275.0, 293.3333333333333, 330.0, 366.6666666666667, 412.5, 440.0]\n"
          ],
          "name": "stdout"
        }
      ]
    },
    {
      "cell_type": "markdown",
      "metadata": {
        "id": "9aqDv0Fpn940",
        "colab_type": "text"
      },
      "source": [
        "La distanza tra due intervalli si esprime in cent. \n",
        "Il cent è la 1200esima parte di un'ottava. Questa misura nasce dal sistema temperato equabile in ci sono 12 semitono oguno alla stessa distanza dall'altro, distanza di 100 cent (1200 / 12).\n",
        "La distanza in cent si trova applicando la seguente formula:"
      ]
    },
    {
      "cell_type": "code",
      "metadata": {
        "id": "VsFiohVFoJeU",
        "colab_type": "code",
        "colab": {}
      },
      "source": [
        "import math\n",
        "\n",
        "f1 = 220\n",
        "f2 = 440\n",
        "\n",
        "cent = 1200 * math.log(f2 / f1, 2) # f2 > f1\n",
        "print(cent, 'cent')"
      ],
      "execution_count": 0,
      "outputs": []
    },
    {
      "cell_type": "markdown",
      "metadata": {
        "id": "-FGm1o4Tr39f",
        "colab_type": "text"
      },
      "source": [
        "Distanza tra gli intervalli puri e gli intervalli generati dalla scala pitagorica.\n",
        "Gli intervalli di terza maggiore, quarta giusta, sesta maggiore e settima maggiore risultano più ampi nella scala pitagorica.\n"
      ]
    },
    {
      "cell_type": "code",
      "metadata": {
        "id": "sRvNn58rr9lH",
        "colab_type": "code",
        "outputId": "e7635b3d-a517-4629-955b-d4dd5c5fd6dd",
        "colab": {
          "base_uri": "https://localhost:8080/",
          "height": 151
        }
      },
      "source": [
        "import math\n",
        "\n",
        "pure_intervals = [220.0, 247.5, 275.0, 293.3333333333333, 330.0, 366.6666666666667, 412.5, 440.0]\n",
        "pythagorean_intervals = [220, 247.5, 278.4375, 297.3353576660156, 330.0, 371.25, 417.65625, 440]\n",
        "\n",
        "for key, pure_frequency in enumerate(pure_intervals):\n",
        "  print('pure {} - pythagorean {} = {} cents'.format(pure_frequency, pythagorean_intervals[key], 1200 * math.log(pythagorean_intervals[key] / pure_frequency, 2)))"
      ],
      "execution_count": 0,
      "outputs": [
        {
          "output_type": "stream",
          "text": [
            "pure 220.0 - pythagorean 220 = 0.0 cents\n",
            "pure 247.5 - pythagorean 247.5 = 0.0 cents\n",
            "pure 275.0 - pythagorean 278.4375 = 21.50628959671478 cents\n",
            "pure 293.3333333333333 - pythagorean 297.3353576660156 = 23.460010384649014 cents\n",
            "pure 330.0 - pythagorean 330.0 = 0.0 cents\n",
            "pure 366.6666666666667 - pythagorean 371.25 = 21.50628959671478 cents\n",
            "pure 412.5 - pythagorean 417.65625 = 21.50628959671478 cents\n",
            "pure 440.0 - pythagorean 440 = 0.0 cents\n"
          ],
          "name": "stdout"
        }
      ]
    },
    {
      "cell_type": "markdown",
      "metadata": {
        "id": "lfF8P-yt3-FB",
        "colab_type": "text"
      },
      "source": [
        "Prendiamo ora gli intervalli a distanza di tono della scala pura (seconda maggiore) e vediamo la distanza che c'è tra loro."
      ]
    },
    {
      "cell_type": "code",
      "metadata": {
        "id": "c8M8HsupM1HU",
        "colab_type": "code",
        "outputId": "e633fa95-6b9c-48da-e289-29bf7a2cb083",
        "colab": {
          "base_uri": "https://localhost:8080/",
          "height": 101
        }
      },
      "source": [
        "import math\n",
        "\n",
        "print('root - 2nd: {} = {} cents'.format(247.5 / 220, 1200 * math.log(247.5 / 220, 2)))\n",
        "print('2nd - 3rd: {} = {} cents'.format(275 / 247.5, 1200 * math.log(275 / 247.5, 2)))\n",
        "print('4th - 5th: {} = {} cents'.format(330 / 293.3333333333333, 1200 * math.log(330 / 293.3333333333333, 2)))\n",
        "print('5th - 6th: {} = {} cents'.format(366.6666666666667 / 330, 1200 * math.log(366.6666666666667 / 330, 2)))\n",
        "print('6th - 7th: {} = {} cents'.format(412.5 / 366.6666666666667, 1200 * math.log(412.5 / 366.6666666666667, 2)))"
      ],
      "execution_count": 0,
      "outputs": [
        {
          "output_type": "stream",
          "text": [
            "root - 2nd: 1.125 = 203.91000173077484 cents\n",
            "2nd - 3rd: 1.1111111111111112 = 182.40371213406007 cents\n",
            "4th - 5th: 1.125 = 203.91000173077484 cents\n",
            "5th - 6th: 1.1111111111111112 = 182.40371213406007 cents\n",
            "6th - 7th: 1.125 = 203.91000173077484 cents\n"
          ],
          "name": "stdout"
        }
      ]
    },
    {
      "cell_type": "markdown",
      "metadata": {
        "id": "GvdAkEhuN650",
        "colab_type": "text"
      },
      "source": [
        "Come possiamo vedere abbiamo due diversi tipi di tono: uno di 9/8 (1.125, 203,9 cents) e uno di 10/9 (1.1111111111111112, 182,4 cents)\n",
        "\n",
        "Per questo motivo l'utilizzo della scala pura è limitato a una sola tonalità.\n",
        "Prendiamo come root il quinto grado ovvero 330hz e calcoliamo il suo secondo grado"
      ]
    },
    {
      "cell_type": "code",
      "metadata": {
        "id": "hsjuy15sPK4E",
        "colab_type": "code",
        "outputId": "c0933562-cd50-42ff-c567-a7441ea23c0d",
        "colab": {
          "base_uri": "https://localhost:8080/",
          "height": 50
        }
      },
      "source": [
        "print('6th of A', 366.6666666666667)\n",
        "print('2nd of E', 330 * (9/8))"
      ],
      "execution_count": 0,
      "outputs": [
        {
          "output_type": "stream",
          "text": [
            "6th of A 366.6666666666667\n",
            "2nd of E 371.25\n"
          ],
          "name": "stdout"
        }
      ]
    },
    {
      "cell_type": "markdown",
      "metadata": {
        "id": "j7dhCo6nP2BN",
        "colab_type": "text"
      },
      "source": [
        "Come vediamo il F# (sesto maggiore di A e secondo maggiore di E) ha una frequenza differente in base alla tonalità di partenza. Infatti come sesto grado maggiore di A ha una frequenza di 366.6666666666667 mentre come secondo maggiore di E ha una frequenza di 371.25. Questi sono infatti rispettivamente tono minore e tono maggiore.\n",
        "\n",
        "Questo limita l'utilizzo della scala pura ha una sola tonalità. Un grosso problema per gli strumenti ad intonazione fissa come ad esempio il pianoforte, accordarsi ogni cambio di tonalità non è infatti pensabile.\n",
        "Discorso diverso invece per gli strumenti senza un'intonazione fissa come ad esempio il violino o gli strumenti a fiato.\n",
        "\n",
        "Tornando ai due tipi di tono differente all'interno della scala pura possiamo quindi affermare che esistono:\n",
        "\n",
        "\n",
        "*   Tono maggiore: 9/8\n",
        "*   Tono minore: 10/9\n",
        "\n",
        "Proviamo a vedere ora il rapporto per quanto riguarda il semitono, che troviamo tra il terzo grado maggiore e il quarto grado giusto e tra il settimo grado maggiore e l'ottava.\n",
        "\n"
      ]
    },
    {
      "cell_type": "code",
      "metadata": {
        "id": "MFAg76JhQ5S7",
        "colab_type": "code",
        "outputId": "089fbbf1-a9e7-472d-8019-3982b15d34e7",
        "colab": {
          "base_uri": "https://localhost:8080/",
          "height": 50
        }
      },
      "source": [
        "print('3rd - 4th: {} = {} cents'.format(293.3333333333333/275, 1200 * math.log(293.3333333333333/275, 2)))\n",
        "print('7th - 8th: {} = {} cents'.format(440/412.5, 1200 * math.log(440/412.5, 2)))"
      ],
      "execution_count": 0,
      "outputs": [
        {
          "output_type": "stream",
          "text": [
            "3rd - 4th: 1.0666666666666667 = 111.73128526977776 cents\n",
            "7th - 8th: 1.0666666666666667 = 111.73128526977776 cents\n"
          ],
          "name": "stdout"
        }
      ]
    },
    {
      "cell_type": "markdown",
      "metadata": {
        "id": "j-UpuC5SQvD0",
        "colab_type": "text"
      },
      "source": [
        "La distanza di semitono è la stessa.\n",
        "\n",
        "Vediamo ora il rapporto tra due note a distana di tono, come fatto per la scala pura, della scala pitagorica."
      ]
    },
    {
      "cell_type": "code",
      "metadata": {
        "id": "Ss7zAY1UwMRf",
        "colab_type": "code",
        "outputId": "eb0e9655-f9b0-42e0-bc3d-c571aaf0c8a9",
        "colab": {
          "base_uri": "https://localhost:8080/",
          "height": 101
        }
      },
      "source": [
        "print('root - 2nd: {} = {} cents'.format(247.5 / 220, 1200 * math.log(247.5 / 220, 2)))\n",
        "print('2nd - 3rd: {} = {} cents'.format(278.4375 / 247.5, 1200 * math.log(278.4375 / 247.5, 2)))\n",
        "print('4th - 5th: {} = {} cents'.format(330.0 / 297.3353576660156, 1200 * math.log(330.0 / 297.3353576660156, 2)))\n",
        "print('5th - 6th: {} = {} cents'.format(371.25 / 330, 1200 * math.log(371.25 / 330, 2)))\n",
        "print('6th - 7th: {} = {} cents'.format(417.65625 / 371.25, 1200 * math.log(417.65625 / 371.25, 2)))"
      ],
      "execution_count": 0,
      "outputs": [
        {
          "output_type": "stream",
          "text": [
            "root - 2nd: 1.125 = 203.91000173077484 cents\n",
            "2nd - 3rd: 1.125 = 203.91000173077484 cents\n",
            "4th - 5th: 1.1098579146132872 = 180.44999134612573 cents\n",
            "5th - 6th: 1.125 = 203.91000173077484 cents\n",
            "6th - 7th: 1.125 = 203.91000173077484 cents\n"
          ],
          "name": "stdout"
        }
      ]
    },
    {
      "cell_type": "markdown",
      "metadata": {
        "id": "jTdOuAsVxq9o",
        "colab_type": "text"
      },
      "source": [
        "Possiamo vedere che tutti gli intervalli di tono hanno lo stesso rapporto a differenza di quello tra quarta e quinta che risulta essere più piccolo.\n",
        "Facciamo la stessa cosa per gli intervalli di semitono"
      ]
    },
    {
      "cell_type": "code",
      "metadata": {
        "id": "3qWyomNexuSe",
        "colab_type": "code",
        "outputId": "992f7028-fa7c-40be-ffd9-0cad70de4b43",
        "colab": {
          "base_uri": "https://localhost:8080/",
          "height": 50
        }
      },
      "source": [
        "print('3rd - 4th: {} = {} cents'.format(297.3353576660156 / 278.4375, 1200 * math.log(297.3353576660156 / 278.4375, 2)))\n",
        "print('7th - 8th: {} = {} cents'.format(440 / 417.65625, 1200 * math.log(440 / 417.65625, 2)))"
      ],
      "execution_count": 0,
      "outputs": [
        {
          "output_type": "stream",
          "text": [
            "3rd - 4th: 1.06787109375 = 113.68500605771193 cents\n",
            "7th - 8th: 1.0534979423868314 = 90.22499567306306\n"
          ],
          "name": "stdout"
        }
      ]
    },
    {
      "cell_type": "markdown",
      "metadata": {
        "id": "_gRf-cN8zHbW",
        "colab_type": "text"
      },
      "source": [
        "In questo caso anche gli intervalli di semitono risultano esseree differenti di circa 23,4 cents.\n"
      ]
    },
    {
      "cell_type": "markdown",
      "metadata": {
        "id": "BYiqFBXo4l3I",
        "colab_type": "text"
      },
      "source": [
        "Nella just intonation il valore in cent dei possibili intervalli è"
      ]
    },
    {
      "cell_type": "code",
      "metadata": {
        "id": "NmrLRzLxaBAH",
        "colab_type": "code",
        "outputId": "099f0af8-e7ba-41df-9f89-9b4e6a261370",
        "colab": {
          "base_uri": "https://localhost:8080/",
          "height": 74
        }
      },
      "source": [
        "import math\n",
        "\n",
        "print('Tono maggiore:', 1200 * math.log(247.5 / 220, 2))\n",
        "print('Tono minore:', 1200 * math.log(275/247.5, 2))\n",
        "print('Semitono:', 1200 *  math.log(293.3333333333333/275, 2))"
      ],
      "execution_count": 0,
      "outputs": [
        {
          "output_type": "stream",
          "text": [
            "Tono maggiore 203.91000173077484\n",
            "Tono minore 182.40371213406007\n",
            "Semitono 111.73128526977776\n"
          ],
          "name": "stdout"
        }
      ]
    },
    {
      "cell_type": "markdown",
      "metadata": {
        "id": "POKeu2ojcOXG",
        "colab_type": "text"
      },
      "source": [
        "La just intonation, oltre a non poter essere utilizzata con la stessa intonatura in più tonalità, non permette di ottenere tutti gli accordi con intervalli puri neanche all'interno della stessa tonalità.\n",
        "Prendiamo l'intervallo tra D (247.5hz) e F (293.3333333333333hz), terza minore, che come abbiamo visto deve essere di 6/5, per essere pura."
      ]
    },
    {
      "cell_type": "code",
      "metadata": {
        "id": "HRzuIOkvdE3k",
        "colab_type": "code",
        "outputId": "89fb9099-5d61-4974-cd9a-1a33e32a02ce",
        "colab": {
          "base_uri": "https://localhost:8080/",
          "height": 55
        }
      },
      "source": [
        "print('Cents D - F:', 1200 *  math.log(293.3333333333333/247.5, 2))\n",
        "print('Cents pure interval:', 1200 *  math.log(6/5, 2))"
      ],
      "execution_count": 0,
      "outputs": [
        {
          "output_type": "stream",
          "text": [
            "Cents D - F 294.13499740383764\n",
            "Cents pure interval 315.64128700055255\n"
          ],
          "name": "stdout"
        }
      ]
    },
    {
      "cell_type": "markdown",
      "metadata": {
        "id": "x3GLiTlAeega",
        "colab_type": "text"
      },
      "source": [
        "Il meantone temperament è un sistema di intonazione in cui vengono modificate le quinte per migliorare le terze. Il meantone temperament più famoso è il quarter-comma meantone, in cui le quinte vengono modificate di 1/4 del valore del syntonic comma che corrisponde alla differenza tra l'intervallo di terza puro, 5/4, e quello ottenuto nella scala pitagorica (pythagorean tuning), 81:64."
      ]
    },
    {
      "cell_type": "code",
      "metadata": {
        "id": "ADgCyJ2EfqfQ",
        "colab_type": "code",
        "outputId": "c6994bec-1e31-4dab-952d-588b0543a62a",
        "colab": {
          "base_uri": "https://localhost:8080/",
          "height": 55
        }
      },
      "source": [
        "import math\n",
        "\n",
        "pythagorean_third = ((3/2)**4) / 4 # Quattro quinte ascendenti formano un intervallo di terza A - E - B - F# - C# -> A - C# \n",
        "pure_third = 5/4\n",
        "\n",
        "print('Syntonic comma:', pythagorean_third / pure_third) # 81:80\n",
        "print('Syntonic comma cents:', 1200 * math.log(pythagorean_third / pure_third, 2))"
      ],
      "execution_count": 0,
      "outputs": [
        {
          "output_type": "stream",
          "text": [
            "Syntonic comma: 1.0125\n",
            "Syntonic comma cents: 21.50628959671478\n"
          ],
          "name": "stdout"
        }
      ]
    },
    {
      "cell_type": "markdown",
      "metadata": {
        "id": "rG_nUm8gf3-t",
        "colab_type": "text"
      },
      "source": [
        "Quattro intervalli di quinta consecutivi formano un intervallo di terza: A - E - B - F# - C# -> A - C#\n",
        "Come abbiamo visto nel pythagorean tuning l'intervallo di terza non è puro, ma modificando le quinte ognuna di 1/4 di syntonic comma otteniamo un intervallo A - C# puro."
      ]
    },
    {
      "cell_type": "code",
      "metadata": {
        "id": "VtI6k7LrgdIU",
        "colab_type": "code",
        "outputId": "32662216-cbe4-4f8b-b8ba-5e6a40977c2c",
        "colab": {
          "base_uri": "https://localhost:8080/",
          "height": 55
        }
      },
      "source": [
        "syntonic_comma = 81/80\n",
        "\n",
        "\n",
        "root = 220\n",
        "\n",
        "pure_third = 5/4 * root\n",
        "\n",
        "i = 0\n",
        "\n",
        "def reduce(note):\n",
        "  while(note > root * 2):\n",
        "    note = note / 2\n",
        "   \n",
        "  return note\n",
        "    \n",
        "note = root\n",
        "\n",
        "while(i < 4):\n",
        "  note = note * ((3/2) / (syntonic_comma ** (1/4)))\n",
        "  i += 1\n",
        "\n",
        "print('Pure third:', pure_third)\n",
        "print('quarter-comma meantone third:', reduce(note))"
      ],
      "execution_count": 0,
      "outputs": [
        {
          "output_type": "stream",
          "text": [
            "Pure third: 275.0\n",
            "quarter-comma meantone third: 275.0\n"
          ],
          "name": "stdout"
        }
      ]
    },
    {
      "cell_type": "markdown",
      "metadata": {
        "id": "4yNJJ_J_OaIq",
        "colab_type": "text"
      },
      "source": [
        "Calcoliamo ora le 12 note partendo dalla frequenza 220"
      ]
    },
    {
      "cell_type": "code",
      "metadata": {
        "id": "B3DBYZDyOyKz",
        "colab_type": "code",
        "outputId": "d37eda83-d414-44db-cf66-733e62799f03",
        "colab": {
          "base_uri": "https://localhost:8080/",
          "height": 34
        }
      },
      "source": [
        "root = 220\n",
        "syntonic_comma = 81/80\n",
        "\n",
        "def reduce(note):\n",
        "  while(note > root * 2):\n",
        "    note = note / 2\n",
        "    \n",
        "  return note\n",
        "\n",
        "notes = [root]\n",
        "note = root\n",
        "\n",
        "for i in range(1, 11):\n",
        "  if i < 5:\n",
        "    note = note * ((3/2) / (syntonic_comma ** (1/4)))\n",
        "  else:\n",
        "    note = note * (3/2)\n",
        "    \n",
        "  notes.append(reduce(note))\n",
        "\n",
        "notes.append(440) #octave\n",
        "\n",
        "notes.sort()\n",
        "print(notes)"
      ],
      "execution_count": 0,
      "outputs": [
        {
          "output_type": "stream",
          "text": [
            "[220, 232.03125, 245.96747752497689, 261.03515625, 275.0, 309.375, 328.97673186866854, 348.046875, 367.80716773703216, 391.552734375, 412.5, 440]\n"
          ],
          "name": "stdout"
        }
      ]
    }
  ]
}